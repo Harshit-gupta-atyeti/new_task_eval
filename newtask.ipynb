{
 "cells": [
  {
   "cell_type": "code",
   "execution_count": 1,
   "id": "634ccbe1-a4f1-4947-b001-6d8d2ce62dbf",
   "metadata": {},
   "outputs": [
    {
     "name": "stdin",
     "output_type": "stream",
     "text": [
      "Enter exp a*b\n",
      "enter var {'a':3,'b':4}\n"
     ]
    },
    {
     "name": "stdout",
     "output_type": "stream",
     "text": [
      "12\n"
     ]
    }
   ],
   "source": [
    "def expression(exp,var):\n",
    "    return eval(exp,var)\n",
    "new_string=input(\"Enter exp\")\n",
    "new_var=input(\"enter var in dict\")\n",
    "var=eval(new_var)\n",
    "print(expression(new_string,var))"
   ]
  },
  {
   "cell_type": "code",
   "execution_count": 11,
   "id": "8e001408-d964-411e-b18d-bb181abc8dd7",
   "metadata": {},
   "outputs": [
    {
     "name": "stdout",
     "output_type": "stream",
     "text": [
      "50\n"
     ]
    }
   ],
   "source": [
    "import json\n",
    " \n",
    "def evaluate_inv_exp(json_string, expression):\n",
    "    try:\n",
    "        inventory = json.loads(json_string)\n",
    "        result = eval(expression, {}, inventory)\n",
    "        return result\n",
    "    except Exception as e:\n",
    "        print(f\"Error: {e}\")\n",
    " \n",
    "json_string = '{\"item1\": 50, \"item2\": 30, \"item3\": 100}'\n",
    "expression = \"item1 if item1 > 40 else item2\"\n",
    "output = evaluate_inv_exp(json_string, expression)\n",
    "print(output) "
   ]
  },
  {
   "cell_type": "code",
   "execution_count": 15,
   "id": "2dadcb6d-ccb8-432d-b2f4-1e7d6a95d089",
   "metadata": {},
   "outputs": [
    {
     "name": "stdout",
     "output_type": "stream",
     "text": [
      "[\n",
      "    {\n",
      "        \"name\": \"apple\",\n",
      "        \"price\": 27.0\n",
      "    },\n",
      "    {\n",
      "        \"name\": \"banana\",\n",
      "        \"price\": 18.0\n",
      "    },\n",
      "    {\n",
      "        \"name\": \"cherry\",\n",
      "        \"price\": 45.0\n",
      "    }\n",
      "]\n"
     ]
    }
   ],
   "source": [
    "import json\n",
    " \n",
    "def apply_discount(products, expression):\n",
    "    try:\n",
    "        \n",
    "        result = eval(expression, {}, {\"products\": products})\n",
    "        return result\n",
    "    except Exception as e:\n",
    "        print(f\"Error: {e}\")\n",
    " \n",
    "\n",
    "products = [\n",
    "    {\"name\": \"apple\", \"price\": 30},\n",
    "    {\"name\": \"banana\", \"price\": 20},\n",
    "    {\"name\": \"cherry\", \"price\": 50}\n",
    "]\n",
    "expression = \"list(map(lambda x: {'name': x['name'], 'price': round(x['price'] * 0.9, 2)}, products))\"\n",
    "output = apply_discount(products, expression)\n",
    "print(json.dumps(output, indent=4))  "
   ]
  },
  {
   "cell_type": "code",
   "execution_count": 5,
   "id": "081cff04-eb88-4434-aeec-0c79cd1739b8",
   "metadata": {},
   "outputs": [
    {
     "name": "stdout",
     "output_type": "stream",
     "text": [
      "Engine started!\n",
      "Engine started with a roar!\n"
     ]
    }
   ],
   "source": [
    "class Car:\n",
    "    def start_engine(self):\n",
    "        print(\"Engine started!\")\n",
    "\n",
    "car = Car()\n",
    "car.start_engine()\n",
    "\n",
    "def n_start_engine(self):\n",
    "    print(\"Engine started with a roar!\")\n",
    "\n",
    "Car.start_engine = n_start_engine\n",
    "\n",
    "car.start_engine()"
   ]
  },
  {
   "cell_type": "code",
   "execution_count": null,
   "id": "7498ea28-15ed-4f0b-91c4-fd1a80d49b7c",
   "metadata": {},
   "outputs": [],
   "source": []
  }
 ],
 "metadata": {
  "kernelspec": {
   "display_name": "Python 3 (ipykernel)",
   "language": "python",
   "name": "python3"
  },
  "language_info": {
   "codemirror_mode": {
    "name": "ipython",
    "version": 3
   },
   "file_extension": ".py",
   "mimetype": "text/x-python",
   "name": "python",
   "nbconvert_exporter": "python",
   "pygments_lexer": "ipython3",
   "version": "3.12.4"
  }
 },
 "nbformat": 4,
 "nbformat_minor": 5
}
